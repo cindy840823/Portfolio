{
  "nbformat": 4,
  "nbformat_minor": 0,
  "metadata": {
    "colab": {
      "provenance": []
    },
    "kernelspec": {
      "name": "python3",
      "display_name": "Python 3"
    },
    "language_info": {
      "name": "python"
    }
  },
  "cells": [
    {
      "cell_type": "code",
      "execution_count": 2,
      "metadata": {
        "id": "vJOBi2S6lUWo"
      },
      "outputs": [],
      "source": [
        "import numpy as np\n",
        "import struct\n",
        "from sklearn.model_selection import train_test_split\n",
        "from sklearn.preprocessing import StandardScaler\n",
        "import tensorflow as tf\n",
        "from tensorflow.keras.models import Sequential\n",
        "from tensorflow.keras.layers import Dense, Flatten, Conv2D, MaxPooling2D, Dropout\n",
        "from tensorflow.keras.optimizers import Adam"
      ]
    },
    {
      "cell_type": "code",
      "source": [
        "# function to load MNIST images\n",
        "def load_mnist_images(filename):\n",
        "    with open(filename, 'rb') as f:\n",
        "        _, _, rows, cols = struct.unpack(\">IIII\", f.read(16))\n",
        "        # normalize pixel values to [0, 1]\n",
        "        images = np.fromfile(f, dtype=np.uint8).reshape(-1, rows, cols, 1) / 255.0\n",
        "    return images"
      ],
      "metadata": {
        "id": "eGidRvsHmJuy"
      },
      "execution_count": 3,
      "outputs": []
    },
    {
      "cell_type": "code",
      "source": [
        "# function to loas MNIST labels\n",
        "def load_mnist_labels(filename):\n",
        "    with open(filename, 'rb') as f:\n",
        "        _ = struct.unpack(\">II\", f.read(8))\n",
        "        labels = np.fromfile(f, dtype=np.uint8)\n",
        "    return labels"
      ],
      "metadata": {
        "id": "leDIuacjmgpQ"
      },
      "execution_count": 4,
      "outputs": []
    },
    {
      "cell_type": "code",
      "source": [
        "# import data\n",
        "train_images = load_mnist_images('/content/sample_data/train-images.idx3-ubyte')\n",
        "train_labels = load_mnist_labels('/content/sample_data/train-labels.idx1-ubyte')\n",
        "test_images = load_mnist_images('/content/sample_data/t10k-images.idx3-ubyte')\n",
        "test_labels = load_mnist_labels('/content/sample_data/t10k-labels.idx1-ubyte')"
      ],
      "metadata": {
        "id": "M0WgxKvZm4S1",
        "colab": {
          "base_uri": "https://localhost:8080/",
          "height": 332
        },
        "outputId": "04d6d1a3-53de-4cee-9967-f1766cc6ccbf"
      },
      "execution_count": 5,
      "outputs": [
        {
          "output_type": "error",
          "ename": "FileNotFoundError",
          "evalue": "[Errno 2] No such file or directory: '/content/sample_data/train-images.idx3-ubyte'",
          "traceback": [
            "\u001b[0;31m---------------------------------------------------------------------------\u001b[0m",
            "\u001b[0;31mFileNotFoundError\u001b[0m                         Traceback (most recent call last)",
            "\u001b[0;32m<ipython-input-5-8ad236db9245>\u001b[0m in \u001b[0;36m<cell line: 0>\u001b[0;34m()\u001b[0m\n\u001b[1;32m      1\u001b[0m \u001b[0;31m# import data\u001b[0m\u001b[0;34m\u001b[0m\u001b[0;34m\u001b[0m\u001b[0m\n\u001b[0;32m----> 2\u001b[0;31m \u001b[0mtrain_images\u001b[0m \u001b[0;34m=\u001b[0m \u001b[0mload_mnist_images\u001b[0m\u001b[0;34m(\u001b[0m\u001b[0;34m'/content/sample_data/train-images.idx3-ubyte'\u001b[0m\u001b[0;34m)\u001b[0m\u001b[0;34m\u001b[0m\u001b[0;34m\u001b[0m\u001b[0m\n\u001b[0m\u001b[1;32m      3\u001b[0m \u001b[0mtrain_labels\u001b[0m \u001b[0;34m=\u001b[0m \u001b[0mload_mnist_labels\u001b[0m\u001b[0;34m(\u001b[0m\u001b[0;34m'/content/sample_data/train-labels.idx1-ubyte'\u001b[0m\u001b[0;34m)\u001b[0m\u001b[0;34m\u001b[0m\u001b[0;34m\u001b[0m\u001b[0m\n\u001b[1;32m      4\u001b[0m \u001b[0mtest_images\u001b[0m \u001b[0;34m=\u001b[0m \u001b[0mload_mnist_images\u001b[0m\u001b[0;34m(\u001b[0m\u001b[0;34m'/content/sample_data/t10k-images.idx3-ubyte'\u001b[0m\u001b[0;34m)\u001b[0m\u001b[0;34m\u001b[0m\u001b[0;34m\u001b[0m\u001b[0m\n\u001b[1;32m      5\u001b[0m \u001b[0mtest_labels\u001b[0m \u001b[0;34m=\u001b[0m \u001b[0mload_mnist_labels\u001b[0m\u001b[0;34m(\u001b[0m\u001b[0;34m'/content/sample_data/t10k-labels.idx1-ubyte'\u001b[0m\u001b[0;34m)\u001b[0m\u001b[0;34m\u001b[0m\u001b[0;34m\u001b[0m\u001b[0m\n",
            "\u001b[0;32m<ipython-input-3-a84861f97b5b>\u001b[0m in \u001b[0;36mload_mnist_images\u001b[0;34m(filename)\u001b[0m\n\u001b[1;32m      1\u001b[0m \u001b[0;31m# function to load MNIST images\u001b[0m\u001b[0;34m\u001b[0m\u001b[0;34m\u001b[0m\u001b[0m\n\u001b[1;32m      2\u001b[0m \u001b[0;32mdef\u001b[0m \u001b[0mload_mnist_images\u001b[0m\u001b[0;34m(\u001b[0m\u001b[0mfilename\u001b[0m\u001b[0;34m)\u001b[0m\u001b[0;34m:\u001b[0m\u001b[0;34m\u001b[0m\u001b[0;34m\u001b[0m\u001b[0m\n\u001b[0;32m----> 3\u001b[0;31m     \u001b[0;32mwith\u001b[0m \u001b[0mopen\u001b[0m\u001b[0;34m(\u001b[0m\u001b[0mfilename\u001b[0m\u001b[0;34m,\u001b[0m \u001b[0;34m'rb'\u001b[0m\u001b[0;34m)\u001b[0m \u001b[0;32mas\u001b[0m \u001b[0mf\u001b[0m\u001b[0;34m:\u001b[0m\u001b[0;34m\u001b[0m\u001b[0;34m\u001b[0m\u001b[0m\n\u001b[0m\u001b[1;32m      4\u001b[0m         \u001b[0m_\u001b[0m\u001b[0;34m,\u001b[0m \u001b[0m_\u001b[0m\u001b[0;34m,\u001b[0m \u001b[0mrows\u001b[0m\u001b[0;34m,\u001b[0m \u001b[0mcols\u001b[0m \u001b[0;34m=\u001b[0m \u001b[0mstruct\u001b[0m\u001b[0;34m.\u001b[0m\u001b[0munpack\u001b[0m\u001b[0;34m(\u001b[0m\u001b[0;34m\">IIII\"\u001b[0m\u001b[0;34m,\u001b[0m \u001b[0mf\u001b[0m\u001b[0;34m.\u001b[0m\u001b[0mread\u001b[0m\u001b[0;34m(\u001b[0m\u001b[0;36m16\u001b[0m\u001b[0;34m)\u001b[0m\u001b[0;34m)\u001b[0m\u001b[0;34m\u001b[0m\u001b[0;34m\u001b[0m\u001b[0m\n\u001b[1;32m      5\u001b[0m         \u001b[0;31m# normalize pixel values to [0, 1]\u001b[0m\u001b[0;34m\u001b[0m\u001b[0;34m\u001b[0m\u001b[0m\n",
            "\u001b[0;31mFileNotFoundError\u001b[0m: [Errno 2] No such file or directory: '/content/sample_data/train-images.idx3-ubyte'"
          ]
        }
      ]
    },
    {
      "cell_type": "code",
      "source": [
        "# split data\n",
        "X_train, X_val, y_train, y_val = train_test_split(train_images, train_labels, test_size=0.2, random_state=42)"
      ],
      "metadata": {
        "id": "cjnkMjR_nahS"
      },
      "execution_count": null,
      "outputs": []
    },
    {
      "cell_type": "code",
      "source": [
        "# standardize data\n",
        "scaler = StandardScaler()\n",
        "X_train_flat = scaler.fit_transform(X_train.reshape(X_train.shape[0], -1))\n",
        "X_val_flat = scaler.transform(X_val.reshape(X_val.shape[0], -1))\n",
        "X_test_flat = scaler.transform(test_images.reshape(test_images.shape[0], -1))\n",
        "X_train = X_train_flat.reshape(X_train.shape)\n",
        "X_val = X_val_flat.reshape(X_val.shape)\n",
        "test_images = X_test_flat.reshape(test_images.shape)"
      ],
      "metadata": {
        "id": "70T_YlgWoLYw"
      },
      "execution_count": null,
      "outputs": []
    },
    {
      "cell_type": "code",
      "source": [
        "# define the feedforward neural network w regularization\n",
        "def build_ffnn_model(input_shape):\n",
        "    model = Sequential([\n",
        "        Flatten(input_shape=input_shape),\n",
        "        Dense(128, activation='relu', kernel_regularizer=tf.keras.regularizers.l2(0.01)),\n",
        "        Dropout(0.5),\n",
        "        Dense(64, activation='relu', kernel_regularizer=tf.keras.regularizers.l2(0.01)),\n",
        "        Dropout(0.5),\n",
        "        Dense(10, activation='softmax')\n",
        "    ])\n",
        "    model.compile(optimizer=Adam(learning_rate=0.001), loss='sparse_categorical_crossentropy', metrics=['accuracy'])\n",
        "    return model"
      ],
      "metadata": {
        "id": "Gy1tcfN3oYVY"
      },
      "execution_count": null,
      "outputs": []
    },
    {
      "cell_type": "code",
      "source": [
        "# define the convolutional neural network w regularization\n",
        "def build_cnn_model(input_shape):\n",
        "    model = Sequential([\n",
        "        Conv2D(32, (3, 3), activation='relu', input_shape=input_shape),\n",
        "        MaxPooling2D((2, 2)),\n",
        "        Conv2D(64, (3, 3), activation='relu'),\n",
        "        MaxPooling2D((2, 2)),\n",
        "        Flatten(),\n",
        "        Dense(128, activation='relu'),\n",
        "        Dropout(0.5),\n",
        "        Dense(64, activation='relu'),\n",
        "        Dropout(0.5),\n",
        "        Dense(10, activation='softmax')\n",
        "    ])\n",
        "    model.compile(optimizer=Adam(learning_rate=0.001), loss='sparse_categorical_crossentropy', metrics=['accuracy'])\n",
        "    return model"
      ],
      "metadata": {
        "id": "-4oZkB8spN37"
      },
      "execution_count": null,
      "outputs": []
    },
    {
      "cell_type": "code",
      "source": [
        "# train and calculate the models over 5 runs for 10 epochs\n",
        "def evaluate_models(build_fn, X_train, y_train, X_val, y_val, X_test, y_test, input_shape):\n",
        "    results = []\n",
        "    print(f\"\\nEvaluating for 10 epochs: {build_fn.__name__}\")\n",
        "    for i in range(5):\n",
        "        print(f\"Run {i+1}/5\")\n",
        "        model = build_fn(input_shape)\n",
        "        model.fit(X_train, y_train, validation_data=(X_val, y_val), epochs=10, batch_size=64, verbose=1)\n",
        "        _, accuracy = model.evaluate(X_test, y_test, verbose=0)\n",
        "        results.append(accuracy)\n",
        "        print(f\"Accuracy for Run {i+1}: {accuracy:.4f}\")\n",
        "    avg_result = np.mean(results)\n",
        "    print(f\"Average accuracy over 5 runs: {avg_result:.4f}\")\n",
        "    return avg_result"
      ],
      "metadata": {
        "id": "A5qfUIFPpYw_"
      },
      "execution_count": null,
      "outputs": []
    },
    {
      "cell_type": "code",
      "source": [
        "# calculate fnn\n",
        "print(\"Feedforward Neural Network:\")\n",
        "evaluate_models(build_ffnn_model, X_train, y_train, X_val, y_val, test_images, test_labels, (28, 28, 1))"
      ],
      "metadata": {
        "id": "RvzNYqvgqVOW"
      },
      "execution_count": null,
      "outputs": []
    },
    {
      "cell_type": "code",
      "source": [
        "# evaluate cnn\n",
        "print(\"\\nConvolutional Neural Network:\")\n",
        "evaluate_models(build_cnn_model, X_train, y_train, X_val, y_val, test_images, test_labels, (28, 28, 1))"
      ],
      "metadata": {
        "id": "RNuJ4axMqnxc"
      },
      "execution_count": null,
      "outputs": []
    },
    {
      "cell_type": "code",
      "source": [
        "# Report Generation Section\n",
        "\n",
        "# Actual accuracies from Feedforward Neural Network (FFNN)\n",
        "feedforward_accuracies = [0.9399, 0.9424, 0.9409, 0.9393, 0.9399]  # Results from 5 runs"
      ],
      "metadata": {
        "id": "3aaw5mOHGDvt"
      },
      "execution_count": null,
      "outputs": []
    },
    {
      "cell_type": "code",
      "source": [
        "# Actual accuracies from Convolutional Neural Network (CNN)\n",
        "cnn_accuracies = [0.9909, 0.9868, 0.9914, 0.9901, 0.9895]  # Results from 5 runs"
      ],
      "metadata": {
        "id": "hVRHC6K-GGjx"
      },
      "execution_count": null,
      "outputs": []
    },
    {
      "cell_type": "code",
      "source": [
        "# Calculate average accuracies\n",
        "avg_feedforward_accuracy = sum(feedforward_accuracies) / len(feedforward_accuracies)\n",
        "avg_cnn_accuracy = sum(cnn_accuracies) / len(cnn_accuracies)"
      ],
      "metadata": {
        "id": "EC676gOEGIEF"
      },
      "execution_count": null,
      "outputs": []
    },
    {
      "cell_type": "code",
      "source": [
        "# Generate the report\n",
        "report = f\"\"\"\n",
        "Project #2: Neural Network Classifiers for MNIST\n",
        "\n",
        "Average Testing Accuracy (5 Runs):\n",
        "- Feedforward Neural Network: {avg_feedforward_accuracy:.4f}\n",
        "- Convolutional Neural Network: {avg_cnn_accuracy:.4f}\n",
        "\n",
        "Lessons Learned:\n",
        "1. The Feedforward Neural Network performed consistently, achieving an average accuracy of {avg_feedforward_accuracy:.4f}. Regularization and choosing optimal layer sizes were critical.\n",
        "2. The Convolutional Neural Network outperformed the Feedforward model with an average accuracy of {avg_cnn_accuracy:.4f}, highlighting the power of feature extraction via convolutional layers.\n",
        "3. Increasing training epochs generally improved model accuracy but required balancing against overfitting risks.\n",
        "4. Using dropout layers in the CNN architecture was essential for avoiding overfitting and maintaining high generalization performance.\n",
        "\n",
        "End of Report.\n",
        "\"\"\""
      ],
      "metadata": {
        "id": "8O1pSZoDGJis"
      },
      "execution_count": null,
      "outputs": []
    },
    {
      "cell_type": "code",
      "source": [
        "# Print the report to console\n",
        "print(report)"
      ],
      "metadata": {
        "id": "z8qPIOIQFtbn"
      },
      "execution_count": null,
      "outputs": []
    }
  ]
}