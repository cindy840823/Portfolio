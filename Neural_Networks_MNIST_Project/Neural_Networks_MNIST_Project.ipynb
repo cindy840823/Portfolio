{
  "nbformat": 4,
  "nbformat_minor": 0,
  "metadata": {
    "colab": {
      "provenance": []
    },
    "kernelspec": {
      "name": "python3",
      "display_name": "Python 3"
    },
    "language_info": {
      "name": "python"
    }
  },
  "cells": [
    {
      "cell_type": "code",
      "execution_count": 6,
      "metadata": {
        "id": "vJOBi2S6lUWo"
      },
      "outputs": [],
      "source": [
        "import numpy as np\n",
        "import struct\n",
        "from sklearn.model_selection import train_test_split\n",
        "from sklearn.preprocessing import StandardScaler\n",
        "import tensorflow as tf\n",
        "from tensorflow.keras.models import Sequential\n",
        "from tensorflow.keras.layers import Dense, Flatten, Conv2D, MaxPooling2D, Dropout\n",
        "from tensorflow.keras.optimizers import Adam"
      ]
    },
    {
      "cell_type": "code",
      "source": [
        "# function to load MNIST images\n",
        "def load_mnist_images(filename):\n",
        "    with open(filename, 'rb') as f:\n",
        "        _, _, rows, cols = struct.unpack(\">IIII\", f.read(16))\n",
        "        # normalize pixel values to [0, 1]\n",
        "        images = np.fromfile(f, dtype=np.uint8).reshape(-1, rows, cols, 1) / 255.0\n",
        "    return images"
      ],
      "metadata": {
        "id": "eGidRvsHmJuy"
      },
      "execution_count": 7,
      "outputs": []
    },
    {
      "cell_type": "code",
      "source": [
        "# function to loas MNIST labels\n",
        "def load_mnist_labels(filename):\n",
        "    with open(filename, 'rb') as f:\n",
        "        _ = struct.unpack(\">II\", f.read(8))\n",
        "        labels = np.fromfile(f, dtype=np.uint8)\n",
        "    return labels"
      ],
      "metadata": {
        "id": "leDIuacjmgpQ"
      },
      "execution_count": 8,
      "outputs": []
    },
    {
      "cell_type": "code",
      "source": [
        "# import data\n",
        "train_images = load_mnist_images('/content/sample_data/train-images.idx3-ubyte')\n",
        "train_labels = load_mnist_labels('/content/sample_data/train-labels.idx1-ubyte')\n",
        "test_images = load_mnist_images('/content/sample_data/t10k-images.idx3-ubyte')\n",
        "test_labels = load_mnist_labels('/content/sample_data/t10k-labels.idx1-ubyte')"
      ],
      "metadata": {
        "id": "M0WgxKvZm4S1"
      },
      "execution_count": 9,
      "outputs": []
    },
    {
      "cell_type": "code",
      "source": [
        "# split data\n",
        "X_train, X_val, y_train, y_val = train_test_split(train_images, train_labels, test_size=0.2, random_state=42)"
      ],
      "metadata": {
        "id": "cjnkMjR_nahS"
      },
      "execution_count": 10,
      "outputs": []
    },
    {
      "cell_type": "code",
      "source": [
        "# standardize data\n",
        "scaler = StandardScaler()\n",
        "X_train_flat = scaler.fit_transform(X_train.reshape(X_train.shape[0], -1))\n",
        "X_val_flat = scaler.transform(X_val.reshape(X_val.shape[0], -1))\n",
        "X_test_flat = scaler.transform(test_images.reshape(test_images.shape[0], -1))\n",
        "X_train = X_train_flat.reshape(X_train.shape)\n",
        "X_val = X_val_flat.reshape(X_val.shape)\n",
        "test_images = X_test_flat.reshape(test_images.shape)"
      ],
      "metadata": {
        "id": "70T_YlgWoLYw"
      },
      "execution_count": 11,
      "outputs": []
    },
    {
      "cell_type": "code",
      "source": [
        "# define the feedforward neural network w regularization\n",
        "def build_ffnn_model(input_shape):\n",
        "    model = Sequential([\n",
        "        Flatten(input_shape=input_shape),\n",
        "        Dense(128, activation='relu', kernel_regularizer=tf.keras.regularizers.l2(0.01)),\n",
        "        Dropout(0.5),\n",
        "        Dense(64, activation='relu', kernel_regularizer=tf.keras.regularizers.l2(0.01)),\n",
        "        Dropout(0.5),\n",
        "        Dense(10, activation='softmax')\n",
        "    ])\n",
        "    model.compile(optimizer=Adam(learning_rate=0.001), loss='sparse_categorical_crossentropy', metrics=['accuracy'])\n",
        "    return model"
      ],
      "metadata": {
        "id": "Gy1tcfN3oYVY"
      },
      "execution_count": 12,
      "outputs": []
    },
    {
      "cell_type": "code",
      "source": [
        "# define the convolutional neural network w regularization\n",
        "def build_cnn_model(input_shape):\n",
        "    model = Sequential([\n",
        "        Conv2D(32, (3, 3), activation='relu', input_shape=input_shape),\n",
        "        MaxPooling2D((2, 2)),\n",
        "        Conv2D(64, (3, 3), activation='relu'),\n",
        "        MaxPooling2D((2, 2)),\n",
        "        Flatten(),\n",
        "        Dense(128, activation='relu'),\n",
        "        Dropout(0.5),\n",
        "        Dense(64, activation='relu'),\n",
        "        Dropout(0.5),\n",
        "        Dense(10, activation='softmax')\n",
        "    ])\n",
        "    model.compile(optimizer=Adam(learning_rate=0.001), loss='sparse_categorical_crossentropy', metrics=['accuracy'])\n",
        "    return model"
      ],
      "metadata": {
        "id": "-4oZkB8spN37"
      },
      "execution_count": 13,
      "outputs": []
    },
    {
      "cell_type": "code",
      "source": [
        "# train and calculate the models over 5 runs for 10 epochs\n",
        "def evaluate_models(build_fn, X_train, y_train, X_val, y_val, X_test, y_test, input_shape):\n",
        "    results = []\n",
        "    print(f\"\\nEvaluating for 10 epochs: {build_fn.__name__}\")\n",
        "    for i in range(5):\n",
        "        print(f\"Run {i+1}/5\")\n",
        "        model = build_fn(input_shape)\n",
        "        model.fit(X_train, y_train, validation_data=(X_val, y_val), epochs=10, batch_size=64, verbose=1)\n",
        "        _, accuracy = model.evaluate(X_test, y_test, verbose=0)\n",
        "        results.append(accuracy)\n",
        "        print(f\"Accuracy for Run {i+1}: {accuracy:.4f}\")\n",
        "    avg_result = np.mean(results)\n",
        "    print(f\"Average accuracy over 5 runs: {avg_result:.4f}\")\n",
        "    return avg_result"
      ],
      "metadata": {
        "id": "A5qfUIFPpYw_"
      },
      "execution_count": 14,
      "outputs": []
    },
    {
      "cell_type": "code",
      "source": [
        "# calculate fnn\n",
        "print(\"Feedforward Neural Network:\")\n",
        "evaluate_models(build_ffnn_model, X_train, y_train, X_val, y_val, test_images, test_labels, (28, 28, 1))"
      ],
      "metadata": {
        "colab": {
          "base_uri": "https://localhost:8080/"
        },
        "id": "RvzNYqvgqVOW",
        "outputId": "ad676c5d-0b7f-4e10-afed-356f8aa20300"
      },
      "execution_count": 15,
      "outputs": [
        {
          "output_type": "stream",
          "name": "stdout",
          "text": [
            "Feedforward Neural Network:\n",
            "\n",
            "Evaluating for 10 epochs: build_ffnn_model\n",
            "Run 1/5\n"
          ]
        },
        {
          "output_type": "stream",
          "name": "stderr",
          "text": [
            "/usr/local/lib/python3.11/dist-packages/keras/src/layers/reshaping/flatten.py:37: UserWarning: Do not pass an `input_shape`/`input_dim` argument to a layer. When using Sequential models, prefer using an `Input(shape)` object as the first layer in the model instead.\n",
            "  super().__init__(**kwargs)\n"
          ]
        },
        {
          "output_type": "stream",
          "name": "stdout",
          "text": [
            "Epoch 1/10\n",
            "\u001b[1m750/750\u001b[0m \u001b[32m━━━━━━━━━━━━━━━━━━━━\u001b[0m\u001b[37m\u001b[0m \u001b[1m8s\u001b[0m 7ms/step - accuracy: 0.6387 - loss: 2.7995 - val_accuracy: 0.9192 - val_loss: 0.6702\n",
            "Epoch 2/10\n",
            "\u001b[1m750/750\u001b[0m \u001b[32m━━━━━━━━━━━━━━━━━━━━\u001b[0m\u001b[37m\u001b[0m \u001b[1m9s\u001b[0m 6ms/step - accuracy: 0.8721 - loss: 0.7796 - val_accuracy: 0.9269 - val_loss: 0.5187\n",
            "Epoch 3/10\n",
            "\u001b[1m750/750\u001b[0m \u001b[32m━━━━━━━━━━━━━━━━━━━━\u001b[0m\u001b[37m\u001b[0m \u001b[1m6s\u001b[0m 7ms/step - accuracy: 0.8814 - loss: 0.6811 - val_accuracy: 0.9312 - val_loss: 0.4952\n",
            "Epoch 4/10\n",
            "\u001b[1m750/750\u001b[0m \u001b[32m━━━━━━━━━━━━━━━━━━━━\u001b[0m\u001b[37m\u001b[0m \u001b[1m9s\u001b[0m 5ms/step - accuracy: 0.8867 - loss: 0.6551 - val_accuracy: 0.9293 - val_loss: 0.4816\n",
            "Epoch 5/10\n",
            "\u001b[1m750/750\u001b[0m \u001b[32m━━━━━━━━━━━━━━━━━━━━\u001b[0m\u001b[37m\u001b[0m \u001b[1m5s\u001b[0m 7ms/step - accuracy: 0.8904 - loss: 0.6399 - val_accuracy: 0.9378 - val_loss: 0.4685\n",
            "Epoch 6/10\n",
            "\u001b[1m750/750\u001b[0m \u001b[32m━━━━━━━━━━━━━━━━━━━━\u001b[0m\u001b[37m\u001b[0m \u001b[1m8s\u001b[0m 5ms/step - accuracy: 0.8897 - loss: 0.6371 - val_accuracy: 0.9370 - val_loss: 0.4657\n",
            "Epoch 7/10\n",
            "\u001b[1m750/750\u001b[0m \u001b[32m━━━━━━━━━━━━━━━━━━━━\u001b[0m\u001b[37m\u001b[0m \u001b[1m6s\u001b[0m 8ms/step - accuracy: 0.8964 - loss: 0.6180 - val_accuracy: 0.9346 - val_loss: 0.4686\n",
            "Epoch 8/10\n",
            "\u001b[1m750/750\u001b[0m \u001b[32m━━━━━━━━━━━━━━━━━━━━\u001b[0m\u001b[37m\u001b[0m \u001b[1m4s\u001b[0m 5ms/step - accuracy: 0.8981 - loss: 0.6043 - val_accuracy: 0.9421 - val_loss: 0.4652\n",
            "Epoch 9/10\n",
            "\u001b[1m750/750\u001b[0m \u001b[32m━━━━━━━━━━━━━━━━━━━━\u001b[0m\u001b[37m\u001b[0m \u001b[1m4s\u001b[0m 5ms/step - accuracy: 0.8976 - loss: 0.6078 - val_accuracy: 0.9357 - val_loss: 0.4787\n",
            "Epoch 10/10\n",
            "\u001b[1m750/750\u001b[0m \u001b[32m━━━━━━━━━━━━━━━━━━━━\u001b[0m\u001b[37m\u001b[0m \u001b[1m7s\u001b[0m 7ms/step - accuracy: 0.9014 - loss: 0.6083 - val_accuracy: 0.9414 - val_loss: 0.4539\n",
            "Accuracy for Run 1: 0.9434\n",
            "Run 2/5\n",
            "Epoch 1/10\n",
            "\u001b[1m750/750\u001b[0m \u001b[32m━━━━━━━━━━━━━━━━━━━━\u001b[0m\u001b[37m\u001b[0m \u001b[1m7s\u001b[0m 8ms/step - accuracy: 0.6474 - loss: 2.8015 - val_accuracy: 0.9198 - val_loss: 0.6617\n",
            "Epoch 2/10\n",
            "\u001b[1m750/750\u001b[0m \u001b[32m━━━━━━━━━━━━━━━━━━━━\u001b[0m\u001b[37m\u001b[0m \u001b[1m8s\u001b[0m 5ms/step - accuracy: 0.8710 - loss: 0.7690 - val_accuracy: 0.9249 - val_loss: 0.5177\n",
            "Epoch 3/10\n",
            "\u001b[1m750/750\u001b[0m \u001b[32m━━━━━━━━━━━━━━━━━━━━\u001b[0m\u001b[37m\u001b[0m \u001b[1m7s\u001b[0m 7ms/step - accuracy: 0.8851 - loss: 0.6691 - val_accuracy: 0.9337 - val_loss: 0.4887\n",
            "Epoch 4/10\n",
            "\u001b[1m750/750\u001b[0m \u001b[32m━━━━━━━━━━━━━━━━━━━━\u001b[0m\u001b[37m\u001b[0m \u001b[1m4s\u001b[0m 5ms/step - accuracy: 0.8856 - loss: 0.6545 - val_accuracy: 0.9335 - val_loss: 0.4899\n",
            "Epoch 5/10\n",
            "\u001b[1m750/750\u001b[0m \u001b[32m━━━━━━━━━━━━━━━━━━━━\u001b[0m\u001b[37m\u001b[0m \u001b[1m5s\u001b[0m 5ms/step - accuracy: 0.8903 - loss: 0.6461 - val_accuracy: 0.9344 - val_loss: 0.4914\n",
            "Epoch 6/10\n",
            "\u001b[1m750/750\u001b[0m \u001b[32m━━━━━━━━━━━━━━━━━━━━\u001b[0m\u001b[37m\u001b[0m \u001b[1m5s\u001b[0m 5ms/step - accuracy: 0.8938 - loss: 0.6268 - val_accuracy: 0.9343 - val_loss: 0.4733\n",
            "Epoch 7/10\n",
            "\u001b[1m750/750\u001b[0m \u001b[32m━━━━━━━━━━━━━━━━━━━━\u001b[0m\u001b[37m\u001b[0m \u001b[1m6s\u001b[0m 6ms/step - accuracy: 0.8977 - loss: 0.6118 - val_accuracy: 0.9369 - val_loss: 0.4776\n",
            "Epoch 8/10\n",
            "\u001b[1m750/750\u001b[0m \u001b[32m━━━━━━━━━━━━━━━━━━━━\u001b[0m\u001b[37m\u001b[0m \u001b[1m6s\u001b[0m 8ms/step - accuracy: 0.8983 - loss: 0.6055 - val_accuracy: 0.9387 - val_loss: 0.4583\n",
            "Epoch 9/10\n",
            "\u001b[1m750/750\u001b[0m \u001b[32m━━━━━━━━━━━━━━━━━━━━\u001b[0m\u001b[37m\u001b[0m \u001b[1m3s\u001b[0m 5ms/step - accuracy: 0.8997 - loss: 0.5940 - val_accuracy: 0.9399 - val_loss: 0.4525\n",
            "Epoch 10/10\n",
            "\u001b[1m750/750\u001b[0m \u001b[32m━━━━━━━━━━━━━━━━━━━━\u001b[0m\u001b[37m\u001b[0m \u001b[1m4s\u001b[0m 5ms/step - accuracy: 0.8981 - loss: 0.6071 - val_accuracy: 0.9397 - val_loss: 0.4550\n",
            "Accuracy for Run 2: 0.9428\n",
            "Run 3/5\n",
            "Epoch 1/10\n",
            "\u001b[1m750/750\u001b[0m \u001b[32m━━━━━━━━━━━━━━━━━━━━\u001b[0m\u001b[37m\u001b[0m \u001b[1m6s\u001b[0m 5ms/step - accuracy: 0.6410 - loss: 2.7731 - val_accuracy: 0.9201 - val_loss: 0.6445\n",
            "Epoch 2/10\n",
            "\u001b[1m750/750\u001b[0m \u001b[32m━━━━━━━━━━━━━━━━━━━━\u001b[0m\u001b[37m\u001b[0m \u001b[1m4s\u001b[0m 5ms/step - accuracy: 0.8706 - loss: 0.7691 - val_accuracy: 0.9284 - val_loss: 0.5136\n",
            "Epoch 3/10\n",
            "\u001b[1m750/750\u001b[0m \u001b[32m━━━━━━━━━━━━━━━━━━━━\u001b[0m\u001b[37m\u001b[0m \u001b[1m7s\u001b[0m 8ms/step - accuracy: 0.8821 - loss: 0.6727 - val_accuracy: 0.9322 - val_loss: 0.4935\n",
            "Epoch 4/10\n",
            "\u001b[1m750/750\u001b[0m \u001b[32m━━━━━━━━━━━━━━━━━━━━\u001b[0m\u001b[37m\u001b[0m \u001b[1m8s\u001b[0m 5ms/step - accuracy: 0.8875 - loss: 0.6483 - val_accuracy: 0.9336 - val_loss: 0.4928\n",
            "Epoch 5/10\n",
            "\u001b[1m750/750\u001b[0m \u001b[32m━━━━━━━━━━━━━━━━━━━━\u001b[0m\u001b[37m\u001b[0m \u001b[1m8s\u001b[0m 9ms/step - accuracy: 0.8904 - loss: 0.6381 - val_accuracy: 0.9333 - val_loss: 0.4756\n",
            "Epoch 6/10\n",
            "\u001b[1m750/750\u001b[0m \u001b[32m━━━━━━━━━━━━━━━━━━━━\u001b[0m\u001b[37m\u001b[0m \u001b[1m11s\u001b[0m 10ms/step - accuracy: 0.8919 - loss: 0.6323 - val_accuracy: 0.9379 - val_loss: 0.4634\n",
            "Epoch 7/10\n",
            "\u001b[1m750/750\u001b[0m \u001b[32m━━━━━━━━━━━━━━━━━━━━\u001b[0m\u001b[37m\u001b[0m \u001b[1m7s\u001b[0m 9ms/step - accuracy: 0.8965 - loss: 0.6153 - val_accuracy: 0.9404 - val_loss: 0.4530\n",
            "Epoch 8/10\n",
            "\u001b[1m750/750\u001b[0m \u001b[32m━━━━━━━━━━━━━━━━━━━━\u001b[0m\u001b[37m\u001b[0m \u001b[1m4s\u001b[0m 5ms/step - accuracy: 0.8952 - loss: 0.6132 - val_accuracy: 0.9362 - val_loss: 0.4730\n",
            "Epoch 9/10\n",
            "\u001b[1m750/750\u001b[0m \u001b[32m━━━━━━━━━━━━━━━━━━━━\u001b[0m\u001b[37m\u001b[0m \u001b[1m7s\u001b[0m 7ms/step - accuracy: 0.9024 - loss: 0.5927 - val_accuracy: 0.9398 - val_loss: 0.4578\n",
            "Epoch 10/10\n",
            "\u001b[1m750/750\u001b[0m \u001b[32m━━━━━━━━━━━━━━━━━━━━\u001b[0m\u001b[37m\u001b[0m \u001b[1m8s\u001b[0m 5ms/step - accuracy: 0.9005 - loss: 0.6018 - val_accuracy: 0.9394 - val_loss: 0.4641\n",
            "Accuracy for Run 3: 0.9414\n",
            "Run 4/5\n",
            "Epoch 1/10\n",
            "\u001b[1m750/750\u001b[0m \u001b[32m━━━━━━━━━━━━━━━━━━━━\u001b[0m\u001b[37m\u001b[0m \u001b[1m6s\u001b[0m 5ms/step - accuracy: 0.6467 - loss: 2.7990 - val_accuracy: 0.9208 - val_loss: 0.6650\n",
            "Epoch 2/10\n",
            "\u001b[1m750/750\u001b[0m \u001b[32m━━━━━━━━━━━━━━━━━━━━\u001b[0m\u001b[37m\u001b[0m \u001b[1m4s\u001b[0m 5ms/step - accuracy: 0.8726 - loss: 0.7839 - val_accuracy: 0.9233 - val_loss: 0.5348\n",
            "Epoch 3/10\n",
            "\u001b[1m750/750\u001b[0m \u001b[32m━━━━━━━━━━━━━━━━━━━━\u001b[0m\u001b[37m\u001b[0m \u001b[1m5s\u001b[0m 7ms/step - accuracy: 0.8792 - loss: 0.6799 - val_accuracy: 0.9289 - val_loss: 0.5084\n",
            "Epoch 4/10\n",
            "\u001b[1m750/750\u001b[0m \u001b[32m━━━━━━━━━━━━━━━━━━━━\u001b[0m\u001b[37m\u001b[0m \u001b[1m4s\u001b[0m 5ms/step - accuracy: 0.8884 - loss: 0.6563 - val_accuracy: 0.9336 - val_loss: 0.4794\n",
            "Epoch 5/10\n",
            "\u001b[1m750/750\u001b[0m \u001b[32m━━━━━━━━━━━━━━━━━━━━\u001b[0m\u001b[37m\u001b[0m \u001b[1m5s\u001b[0m 5ms/step - accuracy: 0.8901 - loss: 0.6401 - val_accuracy: 0.9302 - val_loss: 0.4877\n",
            "Epoch 6/10\n",
            "\u001b[1m750/750\u001b[0m \u001b[32m━━━━━━━━━━━━━━━━━━━━\u001b[0m\u001b[37m\u001b[0m \u001b[1m7s\u001b[0m 8ms/step - accuracy: 0.8918 - loss: 0.6312 - val_accuracy: 0.9339 - val_loss: 0.4860\n",
            "Epoch 7/10\n",
            "\u001b[1m750/750\u001b[0m \u001b[32m━━━━━━━━━━━━━━━━━━━━\u001b[0m\u001b[37m\u001b[0m \u001b[1m9s\u001b[0m 5ms/step - accuracy: 0.8963 - loss: 0.6184 - val_accuracy: 0.9349 - val_loss: 0.4675\n",
            "Epoch 8/10\n",
            "\u001b[1m750/750\u001b[0m \u001b[32m━━━━━━━━━━━━━━━━━━━━\u001b[0m\u001b[37m\u001b[0m \u001b[1m6s\u001b[0m 8ms/step - accuracy: 0.8960 - loss: 0.6101 - val_accuracy: 0.9392 - val_loss: 0.4599\n",
            "Epoch 9/10\n",
            "\u001b[1m750/750\u001b[0m \u001b[32m━━━━━━━━━━━━━━━━━━━━\u001b[0m\u001b[37m\u001b[0m \u001b[1m4s\u001b[0m 5ms/step - accuracy: 0.8970 - loss: 0.6087 - val_accuracy: 0.9400 - val_loss: 0.4538\n",
            "Epoch 10/10\n",
            "\u001b[1m750/750\u001b[0m \u001b[32m━━━━━━━━━━━━━━━━━━━━\u001b[0m\u001b[37m\u001b[0m \u001b[1m4s\u001b[0m 5ms/step - accuracy: 0.9022 - loss: 0.5979 - val_accuracy: 0.9413 - val_loss: 0.4534\n",
            "Accuracy for Run 4: 0.9409\n",
            "Run 5/5\n",
            "Epoch 1/10\n",
            "\u001b[1m750/750\u001b[0m \u001b[32m━━━━━━━━━━━━━━━━━━━━\u001b[0m\u001b[37m\u001b[0m \u001b[1m7s\u001b[0m 6ms/step - accuracy: 0.6475 - loss: 2.7725 - val_accuracy: 0.9164 - val_loss: 0.6658\n",
            "Epoch 2/10\n",
            "\u001b[1m750/750\u001b[0m \u001b[32m━━━━━━━━━━━━━━━━━━━━\u001b[0m\u001b[37m\u001b[0m \u001b[1m3s\u001b[0m 5ms/step - accuracy: 0.8711 - loss: 0.7781 - val_accuracy: 0.9234 - val_loss: 0.5292\n",
            "Epoch 3/10\n",
            "\u001b[1m750/750\u001b[0m \u001b[32m━━━━━━━━━━━━━━━━━━━━\u001b[0m\u001b[37m\u001b[0m \u001b[1m4s\u001b[0m 5ms/step - accuracy: 0.8829 - loss: 0.6770 - val_accuracy: 0.9319 - val_loss: 0.4992\n",
            "Epoch 4/10\n",
            "\u001b[1m750/750\u001b[0m \u001b[32m━━━━━━━━━━━━━━━━━━━━\u001b[0m\u001b[37m\u001b[0m \u001b[1m6s\u001b[0m 7ms/step - accuracy: 0.8887 - loss: 0.6456 - val_accuracy: 0.9329 - val_loss: 0.4847\n",
            "Epoch 5/10\n",
            "\u001b[1m750/750\u001b[0m \u001b[32m━━━━━━━━━━━━━━━━━━━━\u001b[0m\u001b[37m\u001b[0m \u001b[1m8s\u001b[0m 5ms/step - accuracy: 0.8906 - loss: 0.6392 - val_accuracy: 0.9362 - val_loss: 0.4754\n",
            "Epoch 6/10\n",
            "\u001b[1m750/750\u001b[0m \u001b[32m━━━━━━━━━━━━━━━━━━━━\u001b[0m\u001b[37m\u001b[0m \u001b[1m6s\u001b[0m 6ms/step - accuracy: 0.8924 - loss: 0.6248 - val_accuracy: 0.9383 - val_loss: 0.4670\n",
            "Epoch 7/10\n",
            "\u001b[1m750/750\u001b[0m \u001b[32m━━━━━━━━━━━━━━━━━━━━\u001b[0m\u001b[37m\u001b[0m \u001b[1m4s\u001b[0m 5ms/step - accuracy: 0.8960 - loss: 0.6155 - val_accuracy: 0.9388 - val_loss: 0.4601\n",
            "Epoch 8/10\n",
            "\u001b[1m750/750\u001b[0m \u001b[32m━━━━━━━━━━━━━━━━━━━━\u001b[0m\u001b[37m\u001b[0m \u001b[1m4s\u001b[0m 5ms/step - accuracy: 0.8983 - loss: 0.6029 - val_accuracy: 0.9417 - val_loss: 0.4499\n",
            "Epoch 9/10\n",
            "\u001b[1m750/750\u001b[0m \u001b[32m━━━━━━━━━━━━━━━━━━━━\u001b[0m\u001b[37m\u001b[0m \u001b[1m6s\u001b[0m 7ms/step - accuracy: 0.8978 - loss: 0.6039 - val_accuracy: 0.9417 - val_loss: 0.4459\n",
            "Epoch 10/10\n",
            "\u001b[1m750/750\u001b[0m \u001b[32m━━━━━━━━━━━━━━━━━━━━\u001b[0m\u001b[37m\u001b[0m \u001b[1m8s\u001b[0m 5ms/step - accuracy: 0.8992 - loss: 0.6025 - val_accuracy: 0.9440 - val_loss: 0.4481\n",
            "Accuracy for Run 5: 0.9448\n",
            "Average accuracy over 5 runs: 0.9427\n"
          ]
        },
        {
          "output_type": "execute_result",
          "data": {
            "text/plain": [
              "0.9426600098609924"
            ]
          },
          "metadata": {},
          "execution_count": 15
        }
      ]
    },
    {
      "cell_type": "code",
      "source": [
        "# evaluate cnn\n",
        "print(\"\\nConvolutional Neural Network:\")\n",
        "evaluate_models(build_cnn_model, X_train, y_train, X_val, y_val, test_images, test_labels, (28, 28, 1))"
      ],
      "metadata": {
        "colab": {
          "base_uri": "https://localhost:8080/"
        },
        "id": "RNuJ4axMqnxc",
        "outputId": "e7cb7635-479c-491a-9271-96f749c6fc4d"
      },
      "execution_count": 16,
      "outputs": [
        {
          "output_type": "stream",
          "name": "stdout",
          "text": [
            "\n",
            "Convolutional Neural Network:\n",
            "\n",
            "Evaluating for 10 epochs: build_cnn_model\n",
            "Run 1/5\n"
          ]
        },
        {
          "output_type": "stream",
          "name": "stderr",
          "text": [
            "/usr/local/lib/python3.11/dist-packages/keras/src/layers/convolutional/base_conv.py:107: UserWarning: Do not pass an `input_shape`/`input_dim` argument to a layer. When using Sequential models, prefer using an `Input(shape)` object as the first layer in the model instead.\n",
            "  super().__init__(activity_regularizer=activity_regularizer, **kwargs)\n"
          ]
        },
        {
          "output_type": "stream",
          "name": "stdout",
          "text": [
            "Epoch 1/10\n",
            "\u001b[1m750/750\u001b[0m \u001b[32m━━━━━━━━━━━━━━━━━━━━\u001b[0m\u001b[37m\u001b[0m \u001b[1m54s\u001b[0m 68ms/step - accuracy: 0.6937 - loss: 0.9136 - val_accuracy: 0.9786 - val_loss: 0.0796\n",
            "Epoch 2/10\n",
            "\u001b[1m750/750\u001b[0m \u001b[32m━━━━━━━━━━━━━━━━━━━━\u001b[0m\u001b[37m\u001b[0m \u001b[1m78s\u001b[0m 63ms/step - accuracy: 0.9543 - loss: 0.1664 - val_accuracy: 0.9848 - val_loss: 0.0630\n",
            "Epoch 3/10\n",
            "\u001b[1m750/750\u001b[0m \u001b[32m━━━━━━━━━━━━━━━━━━━━\u001b[0m\u001b[37m\u001b[0m \u001b[1m82s\u001b[0m 63ms/step - accuracy: 0.9706 - loss: 0.1157 - val_accuracy: 0.9854 - val_loss: 0.0542\n",
            "Epoch 4/10\n",
            "\u001b[1m750/750\u001b[0m \u001b[32m━━━━━━━━━━━━━━━━━━━━\u001b[0m\u001b[37m\u001b[0m \u001b[1m84s\u001b[0m 66ms/step - accuracy: 0.9735 - loss: 0.0998 - val_accuracy: 0.9880 - val_loss: 0.0474\n",
            "Epoch 5/10\n",
            "\u001b[1m750/750\u001b[0m \u001b[32m━━━━━━━━━━━━━━━━━━━━\u001b[0m\u001b[37m\u001b[0m \u001b[1m47s\u001b[0m 63ms/step - accuracy: 0.9805 - loss: 0.0773 - val_accuracy: 0.9883 - val_loss: 0.0474\n",
            "Epoch 6/10\n",
            "\u001b[1m750/750\u001b[0m \u001b[32m━━━━━━━━━━━━━━━━━━━━\u001b[0m\u001b[37m\u001b[0m \u001b[1m67s\u001b[0m 89ms/step - accuracy: 0.9819 - loss: 0.0683 - val_accuracy: 0.9901 - val_loss: 0.0425\n",
            "Epoch 7/10\n",
            "\u001b[1m750/750\u001b[0m \u001b[32m━━━━━━━━━━━━━━━━━━━━\u001b[0m\u001b[37m\u001b[0m \u001b[1m65s\u001b[0m 67ms/step - accuracy: 0.9840 - loss: 0.0626 - val_accuracy: 0.9903 - val_loss: 0.0441\n",
            "Epoch 8/10\n",
            "\u001b[1m750/750\u001b[0m \u001b[32m━━━━━━━━━━━━━━━━━━━━\u001b[0m\u001b[37m\u001b[0m \u001b[1m78s\u001b[0m 61ms/step - accuracy: 0.9865 - loss: 0.0493 - val_accuracy: 0.9893 - val_loss: 0.0489\n",
            "Epoch 9/10\n",
            "\u001b[1m750/750\u001b[0m \u001b[32m━━━━━━━━━━━━━━━━━━━━\u001b[0m\u001b[37m\u001b[0m \u001b[1m83s\u001b[0m 63ms/step - accuracy: 0.9851 - loss: 0.0572 - val_accuracy: 0.9894 - val_loss: 0.0427\n",
            "Epoch 10/10\n",
            "\u001b[1m750/750\u001b[0m \u001b[32m━━━━━━━━━━━━━━━━━━━━\u001b[0m\u001b[37m\u001b[0m \u001b[1m50s\u001b[0m 67ms/step - accuracy: 0.9881 - loss: 0.0452 - val_accuracy: 0.9893 - val_loss: 0.0526\n",
            "Accuracy for Run 1: 0.9901\n",
            "Run 2/5\n",
            "Epoch 1/10\n",
            "\u001b[1m750/750\u001b[0m \u001b[32m━━━━━━━━━━━━━━━━━━━━\u001b[0m\u001b[37m\u001b[0m \u001b[1m50s\u001b[0m 64ms/step - accuracy: 0.7201 - loss: 0.8623 - val_accuracy: 0.9779 - val_loss: 0.0795\n",
            "Epoch 2/10\n",
            "\u001b[1m750/750\u001b[0m \u001b[32m━━━━━━━━━━━━━━━━━━━━\u001b[0m\u001b[37m\u001b[0m \u001b[1m51s\u001b[0m 68ms/step - accuracy: 0.9566 - loss: 0.1654 - val_accuracy: 0.9828 - val_loss: 0.0636\n",
            "Epoch 3/10\n",
            "\u001b[1m750/750\u001b[0m \u001b[32m━━━━━━━━━━━━━━━━━━━━\u001b[0m\u001b[37m\u001b[0m \u001b[1m83s\u001b[0m 69ms/step - accuracy: 0.9709 - loss: 0.1128 - val_accuracy: 0.9846 - val_loss: 0.0546\n",
            "Epoch 4/10\n",
            "\u001b[1m750/750\u001b[0m \u001b[32m━━━━━━━━━━━━━━━━━━━━\u001b[0m\u001b[37m\u001b[0m \u001b[1m80s\u001b[0m 67ms/step - accuracy: 0.9749 - loss: 0.0943 - val_accuracy: 0.9871 - val_loss: 0.0504\n",
            "Epoch 5/10\n",
            "\u001b[1m750/750\u001b[0m \u001b[32m━━━━━━━━━━━━━━━━━━━━\u001b[0m\u001b[37m\u001b[0m \u001b[1m81s\u001b[0m 65ms/step - accuracy: 0.9806 - loss: 0.0781 - val_accuracy: 0.9872 - val_loss: 0.0526\n",
            "Epoch 6/10\n",
            "\u001b[1m750/750\u001b[0m \u001b[32m━━━━━━━━━━━━━━━━━━━━\u001b[0m\u001b[37m\u001b[0m \u001b[1m83s\u001b[0m 66ms/step - accuracy: 0.9812 - loss: 0.0716 - val_accuracy: 0.9878 - val_loss: 0.0564\n",
            "Epoch 7/10\n",
            "\u001b[1m750/750\u001b[0m \u001b[32m━━━━━━━━━━━━━━━━━━━━\u001b[0m\u001b[37m\u001b[0m \u001b[1m80s\u001b[0m 64ms/step - accuracy: 0.9844 - loss: 0.0580 - val_accuracy: 0.9897 - val_loss: 0.0417\n",
            "Epoch 8/10\n",
            "\u001b[1m750/750\u001b[0m \u001b[32m━━━━━━━━━━━━━━━━━━━━\u001b[0m\u001b[37m\u001b[0m \u001b[1m84s\u001b[0m 67ms/step - accuracy: 0.9857 - loss: 0.0531 - val_accuracy: 0.9908 - val_loss: 0.0428\n",
            "Epoch 9/10\n",
            "\u001b[1m750/750\u001b[0m \u001b[32m━━━━━━━━━━━━━━━━━━━━\u001b[0m\u001b[37m\u001b[0m \u001b[1m79s\u001b[0m 63ms/step - accuracy: 0.9880 - loss: 0.0474 - val_accuracy: 0.9898 - val_loss: 0.0488\n",
            "Epoch 10/10\n",
            "\u001b[1m750/750\u001b[0m \u001b[32m━━━━━━━━━━━━━━━━━━━━\u001b[0m\u001b[37m\u001b[0m \u001b[1m81s\u001b[0m 61ms/step - accuracy: 0.9880 - loss: 0.0463 - val_accuracy: 0.9893 - val_loss: 0.0486\n",
            "Accuracy for Run 2: 0.9908\n",
            "Run 3/5\n",
            "Epoch 1/10\n",
            "\u001b[1m750/750\u001b[0m \u001b[32m━━━━━━━━━━━━━━━━━━━━\u001b[0m\u001b[37m\u001b[0m \u001b[1m54s\u001b[0m 68ms/step - accuracy: 0.7161 - loss: 0.8487 - val_accuracy: 0.9785 - val_loss: 0.0777\n",
            "Epoch 2/10\n",
            "\u001b[1m750/750\u001b[0m \u001b[32m━━━━━━━━━━━━━━━━━━━━\u001b[0m\u001b[37m\u001b[0m \u001b[1m80s\u001b[0m 66ms/step - accuracy: 0.9596 - loss: 0.1534 - val_accuracy: 0.9853 - val_loss: 0.0585\n",
            "Epoch 3/10\n",
            "\u001b[1m750/750\u001b[0m \u001b[32m━━━━━━━━━━━━━━━━━━━━\u001b[0m\u001b[37m\u001b[0m \u001b[1m82s\u001b[0m 66ms/step - accuracy: 0.9726 - loss: 0.1089 - val_accuracy: 0.9861 - val_loss: 0.0537\n",
            "Epoch 4/10\n",
            "\u001b[1m750/750\u001b[0m \u001b[32m━━━━━━━━━━━━━━━━━━━━\u001b[0m\u001b[37m\u001b[0m \u001b[1m83s\u001b[0m 68ms/step - accuracy: 0.9778 - loss: 0.0879 - val_accuracy: 0.9878 - val_loss: 0.0438\n",
            "Epoch 5/10\n",
            "\u001b[1m750/750\u001b[0m \u001b[32m━━━━━━━━━━━━━━━━━━━━\u001b[0m\u001b[37m\u001b[0m \u001b[1m81s\u001b[0m 66ms/step - accuracy: 0.9808 - loss: 0.0748 - val_accuracy: 0.9867 - val_loss: 0.0645\n",
            "Epoch 6/10\n",
            "\u001b[1m750/750\u001b[0m \u001b[32m━━━━━━━━━━━━━━━━━━━━\u001b[0m\u001b[37m\u001b[0m \u001b[1m81s\u001b[0m 65ms/step - accuracy: 0.9816 - loss: 0.0722 - val_accuracy: 0.9878 - val_loss: 0.0507\n",
            "Epoch 7/10\n",
            "\u001b[1m750/750\u001b[0m \u001b[32m━━━━━━━━━━━━━━━━━━━━\u001b[0m\u001b[37m\u001b[0m \u001b[1m49s\u001b[0m 66ms/step - accuracy: 0.9851 - loss: 0.0532 - val_accuracy: 0.9885 - val_loss: 0.0586\n",
            "Epoch 8/10\n",
            "\u001b[1m750/750\u001b[0m \u001b[32m━━━━━━━━━━━━━━━━━━━━\u001b[0m\u001b[37m\u001b[0m \u001b[1m81s\u001b[0m 64ms/step - accuracy: 0.9883 - loss: 0.0472 - val_accuracy: 0.9892 - val_loss: 0.0457\n",
            "Epoch 9/10\n",
            "\u001b[1m750/750\u001b[0m \u001b[32m━━━━━━━━━━━━━━━━━━━━\u001b[0m\u001b[37m\u001b[0m \u001b[1m83s\u001b[0m 65ms/step - accuracy: 0.9879 - loss: 0.0474 - val_accuracy: 0.9892 - val_loss: 0.0438\n",
            "Epoch 10/10\n",
            "\u001b[1m750/750\u001b[0m \u001b[32m━━━━━━━━━━━━━━━━━━━━\u001b[0m\u001b[37m\u001b[0m \u001b[1m83s\u001b[0m 67ms/step - accuracy: 0.9875 - loss: 0.0491 - val_accuracy: 0.9889 - val_loss: 0.0473\n",
            "Accuracy for Run 3: 0.9904\n",
            "Run 4/5\n",
            "Epoch 1/10\n",
            "\u001b[1m750/750\u001b[0m \u001b[32m━━━━━━━━━━━━━━━━━━━━\u001b[0m\u001b[37m\u001b[0m \u001b[1m50s\u001b[0m 64ms/step - accuracy: 0.7068 - loss: 0.8863 - val_accuracy: 0.9762 - val_loss: 0.0873\n",
            "Epoch 2/10\n",
            "\u001b[1m750/750\u001b[0m \u001b[32m━━━━━━━━━━━━━━━━━━━━\u001b[0m\u001b[37m\u001b[0m \u001b[1m84s\u001b[0m 66ms/step - accuracy: 0.9554 - loss: 0.1670 - val_accuracy: 0.9800 - val_loss: 0.0756\n",
            "Epoch 3/10\n",
            "\u001b[1m750/750\u001b[0m \u001b[32m━━━━━━━━━━━━━━━━━━━━\u001b[0m\u001b[37m\u001b[0m \u001b[1m83s\u001b[0m 68ms/step - accuracy: 0.9690 - loss: 0.1178 - val_accuracy: 0.9862 - val_loss: 0.0534\n",
            "Epoch 4/10\n",
            "\u001b[1m750/750\u001b[0m \u001b[32m━━━━━━━━━━━━━━━━━━━━\u001b[0m\u001b[37m\u001b[0m \u001b[1m80s\u001b[0m 66ms/step - accuracy: 0.9748 - loss: 0.0963 - val_accuracy: 0.9866 - val_loss: 0.0561\n",
            "Epoch 5/10\n",
            "\u001b[1m750/750\u001b[0m \u001b[32m━━━━━━━━━━━━━━━━━━━━\u001b[0m\u001b[37m\u001b[0m \u001b[1m81s\u001b[0m 65ms/step - accuracy: 0.9804 - loss: 0.0771 - val_accuracy: 0.9878 - val_loss: 0.0510\n",
            "Epoch 6/10\n",
            "\u001b[1m750/750\u001b[0m \u001b[32m━━━━━━━━━━━━━━━━━━━━\u001b[0m\u001b[37m\u001b[0m \u001b[1m84s\u001b[0m 67ms/step - accuracy: 0.9815 - loss: 0.0680 - val_accuracy: 0.9875 - val_loss: 0.0519\n",
            "Epoch 7/10\n",
            "\u001b[1m750/750\u001b[0m \u001b[32m━━━━━━━━━━━━━━━━━━━━\u001b[0m\u001b[37m\u001b[0m \u001b[1m46s\u001b[0m 62ms/step - accuracy: 0.9871 - loss: 0.0531 - val_accuracy: 0.9891 - val_loss: 0.0430\n",
            "Epoch 8/10\n",
            "\u001b[1m750/750\u001b[0m \u001b[32m━━━━━━━━━━━━━━━━━━━━\u001b[0m\u001b[37m\u001b[0m \u001b[1m47s\u001b[0m 62ms/step - accuracy: 0.9868 - loss: 0.0517 - val_accuracy: 0.9883 - val_loss: 0.0499\n",
            "Epoch 9/10\n",
            "\u001b[1m750/750\u001b[0m \u001b[32m━━━━━━━━━━━━━━━━━━━━\u001b[0m\u001b[37m\u001b[0m \u001b[1m48s\u001b[0m 64ms/step - accuracy: 0.9858 - loss: 0.0537 - val_accuracy: 0.9877 - val_loss: 0.0523\n",
            "Epoch 10/10\n",
            "\u001b[1m750/750\u001b[0m \u001b[32m━━━━━━━━━━━━━━━━━━━━\u001b[0m\u001b[37m\u001b[0m \u001b[1m82s\u001b[0m 65ms/step - accuracy: 0.9893 - loss: 0.0410 - val_accuracy: 0.9891 - val_loss: 0.0488\n",
            "Accuracy for Run 4: 0.9898\n",
            "Run 5/5\n",
            "Epoch 1/10\n",
            "\u001b[1m750/750\u001b[0m \u001b[32m━━━━━━━━━━━━━━━━━━━━\u001b[0m\u001b[37m\u001b[0m \u001b[1m50s\u001b[0m 64ms/step - accuracy: 0.7078 - loss: 0.8837 - val_accuracy: 0.9759 - val_loss: 0.0911\n",
            "Epoch 2/10\n",
            "\u001b[1m750/750\u001b[0m \u001b[32m━━━━━━━━━━━━━━━━━━━━\u001b[0m\u001b[37m\u001b[0m \u001b[1m85s\u001b[0m 68ms/step - accuracy: 0.9541 - loss: 0.1714 - val_accuracy: 0.9837 - val_loss: 0.0651\n",
            "Epoch 3/10\n",
            "\u001b[1m750/750\u001b[0m \u001b[32m━━━━━━━━━━━━━━━━━━━━\u001b[0m\u001b[37m\u001b[0m \u001b[1m77s\u001b[0m 62ms/step - accuracy: 0.9686 - loss: 0.1252 - val_accuracy: 0.9866 - val_loss: 0.0534\n",
            "Epoch 4/10\n",
            "\u001b[1m750/750\u001b[0m \u001b[32m━━━━━━━━━━━━━━━━━━━━\u001b[0m\u001b[37m\u001b[0m \u001b[1m50s\u001b[0m 67ms/step - accuracy: 0.9755 - loss: 0.0917 - val_accuracy: 0.9890 - val_loss: 0.0505\n",
            "Epoch 5/10\n",
            "\u001b[1m750/750\u001b[0m \u001b[32m━━━━━━━━━━━━━━━━━━━━\u001b[0m\u001b[37m\u001b[0m \u001b[1m80s\u001b[0m 64ms/step - accuracy: 0.9790 - loss: 0.0794 - val_accuracy: 0.9886 - val_loss: 0.0485\n",
            "Epoch 6/10\n",
            "\u001b[1m750/750\u001b[0m \u001b[32m━━━━━━━━━━━━━━━━━━━━\u001b[0m\u001b[37m\u001b[0m \u001b[1m84s\u001b[0m 67ms/step - accuracy: 0.9836 - loss: 0.0704 - val_accuracy: 0.9861 - val_loss: 0.0533\n",
            "Epoch 7/10\n",
            "\u001b[1m750/750\u001b[0m \u001b[32m━━━━━━━━━━━━━━━━━━━━\u001b[0m\u001b[37m\u001b[0m \u001b[1m47s\u001b[0m 62ms/step - accuracy: 0.9834 - loss: 0.0651 - val_accuracy: 0.9883 - val_loss: 0.0488\n",
            "Epoch 8/10\n",
            "\u001b[1m750/750\u001b[0m \u001b[32m━━━━━━━━━━━━━━━━━━━━\u001b[0m\u001b[37m\u001b[0m \u001b[1m82s\u001b[0m 62ms/step - accuracy: 0.9866 - loss: 0.0517 - val_accuracy: 0.9889 - val_loss: 0.0458\n",
            "Epoch 9/10\n",
            "\u001b[1m750/750\u001b[0m \u001b[32m━━━━━━━━━━━━━━━━━━━━\u001b[0m\u001b[37m\u001b[0m \u001b[1m47s\u001b[0m 62ms/step - accuracy: 0.9870 - loss: 0.0490 - val_accuracy: 0.9886 - val_loss: 0.0559\n",
            "Epoch 10/10\n",
            "\u001b[1m750/750\u001b[0m \u001b[32m━━━━━━━━━━━━━━━━━━━━\u001b[0m\u001b[37m\u001b[0m \u001b[1m84s\u001b[0m 65ms/step - accuracy: 0.9875 - loss: 0.0495 - val_accuracy: 0.9899 - val_loss: 0.0426\n",
            "Accuracy for Run 5: 0.9902\n",
            "Average accuracy over 5 runs: 0.9903\n"
          ]
        },
        {
          "output_type": "execute_result",
          "data": {
            "text/plain": [
              "0.9902600049972534"
            ]
          },
          "metadata": {},
          "execution_count": 16
        }
      ]
    },
    {
      "cell_type": "code",
      "source": [
        "# Report Generation Section"
      ],
      "metadata": {
        "id": "3aaw5mOHGDvt"
      },
      "execution_count": 17,
      "outputs": []
    },
    {
      "cell_type": "code",
      "source": [
        "# Calculated average accuracies\n",
        "avg_feedforward_accuracy = 0.9427\n",
        "avg_cnn_accuracy = 0.9903"
      ],
      "metadata": {
        "id": "EC676gOEGIEF"
      },
      "execution_count": 22,
      "outputs": []
    },
    {
      "cell_type": "code",
      "source": [
        "# Generate the report\n",
        "report = f\"\"\"\n",
        "Project #2: Neural Network Classifiers for MNIST\n",
        "\n",
        "Average Testing Accuracy (5 Runs):\n",
        "- Feedforward Neural Network: {avg_feedforward_accuracy:.4f}\n",
        "- Convolutional Neural Network: {avg_cnn_accuracy:.4f}\n",
        "\n",
        "Lessons Learned:\n",
        "1. The Feedforward Neural Network performed consistently, achieving an average accuracy of {avg_feedforward_accuracy:.4f}. Regularization and choosing optimal layer sizes were critical.\n",
        "2. The Convolutional Neural Network outperformed the Feedforward model with an average accuracy of {avg_cnn_accuracy:.4f}, highlighting the power of feature extraction via convolutional layers.\n",
        "3. Increasing training epochs generally improved model accuracy but required balancing against overfitting risks.\n",
        "4. Using dropout layers in the CNN architecture was essential for avoiding overfitting and maintaining high generalization performance.\n",
        "\n",
        "End of Report.\n",
        "\"\"\""
      ],
      "metadata": {
        "id": "8O1pSZoDGJis"
      },
      "execution_count": 23,
      "outputs": []
    },
    {
      "cell_type": "code",
      "source": [
        "# Print the report to console\n",
        "print(report)"
      ],
      "metadata": {
        "colab": {
          "base_uri": "https://localhost:8080/"
        },
        "id": "z8qPIOIQFtbn",
        "outputId": "8892a2d5-0b8f-448f-e762-ad5bade3ad72"
      },
      "execution_count": 24,
      "outputs": [
        {
          "output_type": "stream",
          "name": "stdout",
          "text": [
            "\n",
            "Project #2: Neural Network Classifiers for MNIST\n",
            "\n",
            "Average Testing Accuracy (5 Runs):\n",
            "- Feedforward Neural Network: 0.9427\n",
            "- Convolutional Neural Network: 0.9903\n",
            "\n",
            "Lessons Learned:\n",
            "1. The Feedforward Neural Network performed consistently, achieving an average accuracy of 0.9427. Regularization and choosing optimal layer sizes were critical.\n",
            "2. The Convolutional Neural Network outperformed the Feedforward model with an average accuracy of 0.9903, highlighting the power of feature extraction via convolutional layers.\n",
            "3. Increasing training epochs generally improved model accuracy but required balancing against overfitting risks.\n",
            "4. Using dropout layers in the CNN architecture was essential for avoiding overfitting and maintaining high generalization performance.\n",
            "\n",
            "End of Report.\n",
            "\n"
          ]
        }
      ]
    }
  ]
}